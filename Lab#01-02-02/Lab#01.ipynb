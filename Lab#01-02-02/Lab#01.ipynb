{
 "cells": [
  {
   "attachments": {},
   "cell_type": "markdown",
   "id": "225d2555",
   "metadata": {},
   "source": [
    "# Applied Linear Algebra - Lab 1\n",
    "Introduction to NumPy, color grading, linear transformation, matrix operation and motion tracking.\n",
    "\n",
    "\n",
    "### Contents:\n",
    "\n",
    "* [Numpy](#Numpy)\n",
    "* [Arrays](#Arrays)\n",
    "* [Array Arithmetic](#Array-Arithmetic)\n",
    "* [Exercise 1](#Exercise-1)\n",
    "* [NumPy Standard Data Types](#NumPy-Standard-Data-Types)\n",
    "* [Using array-generating functions](#Using-array-generating-functions)\n",
    "* [Exercise 2](#Exercise-2)\n",
    "* [Exercise 3](#Exercise-3)\n",
    "* [Array Slicing: Accessing Subarrays](#Array-Slicing:-Accessing-Subarrays)\n",
    "* [Implementing Gaussian Elimination](#Implementing-Gaussian-Elimination) \n",
    "* [Exercise 4](#Exercise-4)\n",
    "* [Exercise 5](#Exercise-5)\n",
    "* [Exercise 6](#Exercise-6)\n",
    "* [Exercise 7](#Exercise-7)\n",
    "* [Exercise 8](#Exercise-8)\n",
    "* [Exercise 9](#Exercise-9)\n",
    "* [LU Decomposition](#lu-decomposition)\n",
    "* [Color Grading](#Color-Grading)\n",
    "* [Exercise 10](#Exercise-10)\n",
    "* [Exercise 11](#Exercise-11)\n",
    "* [Exercise 12](#Exercise-12)\n",
    "* [Exercise 13](#Exercise-13)\n",
    "* [Exercise 14](#Exercise-14)\n",
    "* [Exercise 15](#Exercise-15)\n",
    "* [Linear Transformation](#linear-transformation)\n",
    "* [Exercise 16](#Exercise-16)\n",
    "* [Exercise 17](#Exercise-17)\n",
    "* [Exercise 18](#Exercise-18)\n",
    "* [Exercise 19](#Exercise-19)\n",
    "* [Exercise 20](#Exercise-20)\n",
    "* [Exercise 21](#Exercise-21)\n",
    "* [Exercise 22](#Exercise-22)\n",
    "* [Matrix Operation](#matrix-operation)\n",
    "* [Motion Tracking](#motion-tracking)\n",
    "* [Exercise 23](#Exercise-23)\n",
    "* [Exercise 24](#Exercise-24)\n",
    "* [Exercise 25](#Exercise-25)\n",
    "* [Exercise 26](#Exercise-26)\n",
    "* [Exercise 27](#Exercise-27)\n",
    "* [Exercise 28](#Exercise-28)\n"
   ]
  },
  {
   "cell_type": "markdown",
   "id": "a1f6fb2a",
   "metadata": {},
   "source": [
    "# Numpy\n",
    "\n",
    "Datasets can be made of collections of images, sounds, videos, documents, numerical measurements, or, really anything. Despite the diversity, it will help us to think of all data fundamentally as arrays of numbers.\n",
    "\n",
    "| Data type\t    | Arrays of Numbers? |\n",
    "|---------------|-------------|\n",
    "|Images | Pixel brightness across different channels|\n",
    "|Videos | Pixels brightness across different channels for each frame | \n",
    "|Sound | Intensity over time |\n",
    "|Numbers | No need for transformation | \n",
    "|Tables | Mapping from strings to numbers |\n",
    "\n",
    "\n",
    "Therefore, the efficient storage and manipulation of large arrays of numbers is really fundamental to the process of doing data science. Numpy is one of the libraries within the scientific stack that specialize in handling numerical arrays and data tables. \n",
    "\n",
    "[Numpy](http://www.numpy.org/) is short for _numerical python_, and provides functions that are especially useful when you have to work with large arrays and matrices of numeric data, like matrix multiplications.  \n",
    "\n",
    "The array object class is the foundation of Numpy, and Numpy arrays are like lists in Python, except that every thing inside an array must be of the same type, like int or float. As a result, arrays provide much more efficient storage and data operations, especially as the arrays grow larger in size. However, in other ways, NumPy arrays are very similar to Python's built-in list type, but with the exception of Vectorization."
   ]
  },
  {
   "cell_type": "code",
   "execution_count": 2,
   "id": "5f61fa67",
   "metadata": {},
   "outputs": [],
   "source": [
    "import numpy as np\n",
    "import matplotlib.pyplot as plt\n",
    "import math\n",
    "import cv2\n",
    "\n",
    "# to make matplotlib plots interactive in jupyter \n",
    "%matplotlib inline\n",
    "# Global floating point precision\n",
    "precision = 2"
   ]
  },
  {
   "cell_type": "markdown",
   "id": "06f541e3",
   "metadata": {},
   "source": [
    "## Arrays\n",
    "A numpy array is a grid of values, all of the same type, and is indexed by a tuple of nonnegative integers. The shape of an array is a tuple of integers giving the size of the array along each dimension. A a one dimensional array (shape `(n,)`) corresponds to a vector.\n",
    "\n",
    "We can initialize numpy arrays from nested Python lists, and access elements using square brackets:"
   ]
  },
  {
   "cell_type": "code",
   "execution_count": null,
   "id": "91dce73d",
   "metadata": {},
   "outputs": [],
   "source": [
    "a = np.array([1, 2, 3])  # Create a 1 dimensional array i.e. a vector\n",
    "\n",
    "print(\"a is type: \", type(a))\n",
    "print(\"The shape of the vector a is: \", a.shape)\n",
    "print(a[0], a[1], a[2])  # indexing\n",
    "a[0] = 5  # Change an element of the array\n",
    "print(a)     "
   ]
  },
  {
   "cell_type": "code",
   "execution_count": null,
   "id": "79d03c59",
   "metadata": {},
   "outputs": [],
   "source": [
    "b = np.array([[1,2,3],[4,5,6]])   # Create a 2 dimensional array i.e. a matrix\n",
    "print(b)\n",
    "print(\"The shape of the matrix b is: \", b.shape)\n",
    "print(b[0, 0], b[0, 1], b[1, 0])"
   ]
  },
  {
   "cell_type": "markdown",
   "id": "df7b4158",
   "metadata": {},
   "source": [
    "## Array Arithmetic\n",
    "Basic mathematical functions operate elementwise on arrays and matrices (which are just 2D arrays), and are available both as operator overloads and as functions in the numpy module:"
   ]
  },
  {
   "cell_type": "code",
   "execution_count": null,
   "id": "04dadba5",
   "metadata": {},
   "outputs": [],
   "source": [
    "# Define two matrices\n",
    "x = np.array([[1,2],[3,4]])\n",
    "y = np.array([[5,6],[7,8]])\n",
    "\n",
    "# Elementwise sum:\n",
    "print(x + y)\n",
    "print(np.add(x, y))"
   ]
  },
  {
   "cell_type": "code",
   "execution_count": null,
   "id": "296c8e35",
   "metadata": {},
   "outputs": [],
   "source": [
    "# Elementwise difference:\n",
    "print(x - y)\n",
    "print(np.subtract(x, y))"
   ]
  },
  {
   "cell_type": "code",
   "execution_count": null,
   "id": "e501e54a",
   "metadata": {},
   "outputs": [],
   "source": [
    "# Elementwise product:\n",
    "#  * is elementwise multiplication, not matrix multiplication!\n",
    "print(x * y)\n",
    "print(np.multiply(x, y))"
   ]
  },
  {
   "cell_type": "code",
   "execution_count": null,
   "id": "1137ae71",
   "metadata": {},
   "outputs": [],
   "source": [
    "# Elementwise square root:\n",
    "print(np.sqrt(x))"
   ]
  },
  {
   "cell_type": "code",
   "execution_count": null,
   "id": "8219f697",
   "metadata": {},
   "outputs": [],
   "source": [
    "# Elementwise division:\n",
    "print(x / y)\n",
    "print(np.divide(x, y))"
   ]
  },
  {
   "attachments": {},
   "cell_type": "markdown",
   "id": "d5d0181e",
   "metadata": {
    "tags": []
   },
   "source": [
    "<!-- BEGIN QUESTION -->\n",
    "# Exercise 1\n",
    "Given three vectors $v_1$, $v_2$ and $v_3$, calculate $v_4$ where\n",
    "$$\n",
    "v_4 = 5(v_2 + v_3) + \\frac{10(v_2 - v_1)}{4}\n",
    "$$\n",
    "$(v_i \\in \\mathbf{R}^{5})$"
   ]
  },
  {
   "cell_type": "code",
   "execution_count": null,
   "id": "3166b87b",
   "metadata": {
    "tags": []
   },
   "outputs": [],
   "source": [
    "# define the three vectors\n",
    "v1 = np.array([2, 5, 4, 4, 8])\n",
    "v2 = np.array([3, 4, 1, 8, 8])\n",
    "v3 = np.array([6, 3, 7, 5, 1])\n",
    "\n",
    "# calculate v4\n",
    "v4 = ...\n",
    "print(v4)"
   ]
  },
  {
   "cell_type": "markdown",
   "id": "43954b71",
   "metadata": {},
   "source": [
    "<!-- END QUESTION -->\n",
    "\n",
    "We use the dot function to compute inner products of vectors, to multiply a vector by a matrix, and to multiply matrices. dot is available both as a function in the numpy module and as an instance method of array objects:"
   ]
  },
  {
   "cell_type": "code",
   "execution_count": null,
   "id": "7bc93d40",
   "metadata": {},
   "outputs": [],
   "source": [
    "x = np.array([[1,2],[3,4]])\n",
    "y = np.array([[5,6],[7,8]])\n",
    "\n",
    "v = np.array([9,10])\n",
    "w = np.array([11, 12])\n",
    "\n",
    "# Inner product of vectors.\n",
    "print(v.dot(w))\n",
    "print(np.dot(v, w))\n",
    "print(v @ w)\n",
    "\n",
    "# Matrix multiplication.\n",
    "print(x.dot(y))\n",
    "print(np.dot(x, y))\n",
    "print(x @ y)\n",
    "\n",
    "x = np.matrix(x)\n",
    "y = np.matrix(y)\n",
    "x*y"
   ]
  },
  {
   "cell_type": "markdown",
   "id": "dc2dfe6f",
   "metadata": {},
   "source": [
    "We can cast the array objects to the type `matrix`. This changes the behavior of the standard arithmetic operators +, -, * to use matrix algebra.\n",
    "Make sure the dimensions of the two matrices are compatible. You can use the `np.transpose()` function or the `T` method of NumPy vectors and matrices."
   ]
  },
  {
   "cell_type": "code",
   "execution_count": null,
   "id": "7911cc34",
   "metadata": {},
   "outputs": [],
   "source": [
    "# Create two row vectors\n",
    "v = np.matrix(v)\n",
    "w = np.matrix(w)\n",
    "\n",
    "# Create two matrices\n",
    "x = np.matrix(x)\n",
    "y = np.matrix(y)\n",
    "\n",
    "# Inner product of vectors.\n",
    "print(v * w.T)\n",
    "\n",
    "# Matrix multiplication.\n",
    "print(x * y)\n",
    "\n",
    "# Matrix Vector multiplication\n",
    "print(x * v.T)"
   ]
  },
  {
   "cell_type": "markdown",
   "id": "4d1b23d6",
   "metadata": {},
   "source": [
    "## NumPy Standard Data Types\n",
    "\n",
    "NumPy arrays contain values of a single type, so it is important to have detailed knowledge of those types and their limitations.\n",
    "Because NumPy is built in C, the types will be familiar to users of C, Fortran, and other related languages.\n",
    "\n",
    "The standard NumPy data types are listed in the following table.\n",
    "Note that when constructing an array, they can be specified using a string:\n",
    "\n",
    "```python\n",
    "np.zeros(10, dtype='int16')\n",
    "```\n",
    "\n",
    "Or using the associated NumPy object:\n",
    "\n",
    "```python\n",
    "np.zeros(10, dtype=np.int16)\n",
    "```\n",
    "\n",
    "| Data type\t    | Description |\n",
    "|---------------|-------------|\n",
    "| ``bool_``     | Boolean (True or False) stored as a byte |\n",
    "| ``int_``      | Default integer type (same as C ``long``; normally either ``int64`` or ``int32``)| \n",
    "| ``intc``      | Identical to C ``int`` (normally ``int32`` or ``int64``)| \n",
    "| ``intp``      | Integer used for indexing (same as C ``ssize_t``; normally either ``int32`` or ``int64``)| \n",
    "| ``int8``      | Byte (-128 to 127)| \n",
    "| ``int16``     | Integer (-32768 to 32767)|\n",
    "| ``int32``     | Integer (-2147483648 to 2147483647)|\n",
    "| ``int64``     | Integer (-9223372036854775808 to 9223372036854775807)| \n",
    "| ``uint8``     | Unsigned integer (0 to 255)| \n",
    "| ``uint16``    | Unsigned integer (0 to 65535)| \n",
    "| ``uint32``    | Unsigned integer (0 to 4294967295)| \n",
    "| ``uint64``    | Unsigned integer (0 to 18446744073709551615)| \n",
    "| ``float_``    | Shorthand for ``float64``.| \n",
    "| ``float16``   | Half precision float: sign bit, 5 bits exponent, 10 bits mantissa| \n",
    "| ``float32``   | Single precision float: sign bit, 8 bits exponent, 23 bits mantissa| \n",
    "| ``float64``   | Double precision float: sign bit, 11 bits exponent, 52 bits mantissa| \n",
    "| ``complex_``  | Shorthand for ``complex128``.| \n",
    "| ``complex64`` | Complex number, represented by two 32-bit floats| \n",
    "| ``complex128``| Complex number, represented by two 64-bit floats| \n",
    "\n",
    "More advanced type specification is possible, such as specifying big or little endian numbers; for more information, refer to the [NumPy documentation](http://numpy.org/).\n",
    "NumPy also supports compound data types."
   ]
  },
  {
   "cell_type": "markdown",
   "id": "c2e93e9a",
   "metadata": {},
   "source": [
    "## Using array-generating functions\n",
    "\n",
    "For larger arrays it is inpractical to initialize the data manually, using explicit python lists. Instead we can use one of the many functions in numpy that generate arrays of different forms. Some of the more common are:\n"
   ]
  },
  {
   "cell_type": "code",
   "execution_count": null,
   "id": "44da80c8",
   "metadata": {},
   "outputs": [],
   "source": [
    "# We use these when the elements of the \n",
    "# arrays are originally unknown but their size is known.\n",
    "np.zeros((3,4))"
   ]
  },
  {
   "cell_type": "code",
   "execution_count": null,
   "id": "8b5a110a",
   "metadata": {},
   "outputs": [],
   "source": [
    "np.ones((2,3), dtype = np.int_)"
   ]
  },
  {
   "cell_type": "code",
   "execution_count": null,
   "id": "4e0760d1",
   "metadata": {},
   "outputs": [],
   "source": [
    "np.empty( (2,3) )   "
   ]
  },
  {
   "cell_type": "code",
   "execution_count": null,
   "id": "5622f6de",
   "metadata": {},
   "outputs": [],
   "source": [
    "# Create a 3x5 array filled with 3.14\n",
    "np.full((3, 5), 3.14)"
   ]
  },
  {
   "cell_type": "code",
   "execution_count": null,
   "id": "c98d17cf",
   "metadata": {},
   "outputs": [],
   "source": [
    "# Create a 3x3 Identity Matrix\n",
    "np.eye(3)"
   ]
  },
  {
   "cell_type": "markdown",
   "id": "749d5593",
   "metadata": {
    "tags": []
   },
   "source": [
    "<!-- BEGIN QUESTION -->\n",
    "\n",
    "# Exercise 2\n",
    "Given vector $v$, calculate the average of its elements using dot product."
   ]
  },
  {
   "cell_type": "code",
   "execution_count": null,
   "id": "71f5561a",
   "metadata": {
    "tags": []
   },
   "outputs": [],
   "source": [
    "# define vector v\n",
    "v = np.array([10, 4, 5, -2, -6, 5, 1, 0])\n",
    "\n",
    "# vector of ones\n",
    "ones_vector = ...\n",
    "\n",
    "# calculating the average using dot product\n",
    "average = ...\n",
    "average"
   ]
  },
  {
   "attachments": {},
   "cell_type": "markdown",
   "id": "881ecb8a",
   "metadata": {},
   "source": [
    "<!-- END QUESTION -->\n",
    "\n",
    "<!-- BEGIN QUESTION -->\n",
    "\n",
    "# Exercise 3\n",
    "Matrices can *transform* the vectors that they are multiplied with.\n",
    "define vector $ u = [ 3, -4 ]^T $ and matrix $ A = \\begin{bmatrix}2&-3\\\\2&-2 \\end{bmatrix}$ then calculate and plot the result of\n",
    "$ Au$ which we'll call $v$. We'll have more to say about these transformations.\n",
    "\n",
    "When multiplying, make sure that $u$ is a $2\\times1$ column vector."
   ]
  },
  {
   "cell_type": "code",
   "execution_count": null,
   "id": "db66a9bf",
   "metadata": {
    "tags": []
   },
   "outputs": [],
   "source": [
    "# define the vector. this is a row vector\n",
    "u = ...\n",
    "\n",
    "# define the 2x2 matrix\n",
    "A = ...\n",
    "\n",
    "# output vector is Av (convert v to column)\n",
    "v = ...\n",
    "\n",
    "\n",
    "# plotting\n",
    "plt.plot([0,u[0]],[0,u[1]],label='u')\n",
    "plt.plot([0,v[0]],[0,v[1]],label='Au')\n",
    "plt.grid()\n",
    "plt.axis((0, 20, -10, 20))\n",
    "plt.legend()\n",
    "plt.show()"
   ]
  },
  {
   "cell_type": "markdown",
   "id": "cbe4e6c5",
   "metadata": {},
   "source": [
    "<!-- END QUESTION -->\n",
    "\n",
    "### Array Slicing: Accessing Subarrays\n",
    "\n",
    "Just as we can use square brackets to access individual array elements, we can also use them to access subarrays with the *slice* notation, marked by the colon (``:``) character.\n",
    "The NumPy slicing syntax follows that of the standard Python list; to access a slice of an array ``x``, use this:\n",
    "``` python\n",
    "x[start:stop:step]\n",
    "```\n",
    "If any of these are unspecified, they default to the values ``start=0``, ``stop=``*``size of dimension``*, ``step=1``.\n",
    "We'll take a look at accessing sub-arrays in one dimension and in multiple dimensions."
   ]
  },
  {
   "cell_type": "code",
   "execution_count": null,
   "id": "5694f2b3",
   "metadata": {},
   "outputs": [],
   "source": [
    "M = np.random.randint(100, size=(10, 12))\n",
    "print(\"Initial matrix: \")\n",
    "print(M)"
   ]
  },
  {
   "cell_type": "code",
   "execution_count": null,
   "id": "2a335c23",
   "metadata": {},
   "outputs": [],
   "source": [
    "M[1,:] # se|cond row"
   ]
  },
  {
   "cell_type": "code",
   "execution_count": null,
   "id": "73fc0eb0",
   "metadata": {},
   "outputs": [],
   "source": [
    "M[:,1] # second column"
   ]
  },
  {
   "cell_type": "code",
   "execution_count": null,
   "id": "6f53f61f",
   "metadata": {},
   "outputs": [],
   "source": [
    "# assignment can also work for rows and columns. This is really powerful and fast!\n",
    "M[1,:] = 0\n",
    "M"
   ]
  },
  {
   "cell_type": "code",
   "execution_count": null,
   "id": "ac79a36b",
   "metadata": {},
   "outputs": [],
   "source": [
    "M[:,2] = -1\n",
    "M"
   ]
  },
  {
   "cell_type": "code",
   "execution_count": null,
   "id": "756af8de",
   "metadata": {},
   "outputs": [],
   "source": [
    "M[::2] # step is 2, lower and upper defaults to the beginning and end of the array"
   ]
  },
  {
   "cell_type": "code",
   "execution_count": null,
   "id": "6751fcd5",
   "metadata": {},
   "outputs": [],
   "source": [
    "M[:3] # first three rows"
   ]
  },
  {
   "cell_type": "code",
   "execution_count": null,
   "id": "379d3e25",
   "metadata": {},
   "outputs": [],
   "source": [
    "M[3:] # rows from row 3 to the end"
   ]
  },
  {
   "cell_type": "code",
   "execution_count": null,
   "id": "497975aa",
   "metadata": {},
   "outputs": [],
   "source": [
    "# slice a block from the original array\n",
    "M[1:4, 1:4]"
   ]
  },
  {
   "cell_type": "code",
   "execution_count": null,
   "id": "67fb2a2c",
   "metadata": {},
   "outputs": [],
   "source": [
    "# slice with different strides\n",
    "M[::2, ::2]"
   ]
  },
  {
   "cell_type": "markdown",
   "id": "65a95f57",
   "metadata": {},
   "source": [
    "<!-- BEGIN QUESTION -->\n",
    "\n",
    "# Implementing Gaussian Elimination\n",
    "In this exercise we'll try to implement gaussian elimination.\n",
    "First we create a couple of functions for elementry row operations.\n",
    "\n",
    "Each of the elementary row operations is the result of matrix multiplication by an elementary matrix (on the left).\n",
    "\n",
    "# Exercise 4\n",
    "## Row Swap\n",
    "For swapping row $i$ with row $j$ in a $m\\times n$ matrix $A$, we multiply $A$ by an $m\\times m$ matrix $E$ where $E$ is equal to the identity matrix $I_m$ except $E_{ii}=E_{jj}=0,$ and $E_{ij}=E_{ji}=1$. (Equivalently, we can interchange $i$-th row and $j$-th row of the identity matrix $I$ to get $E$.)\n",
    "For example, if $A$ is a $3\\times 3$ matrix and we would like to swap row $1$ with row $3$, then $E$ would be equal to:\n",
    "  \n",
    "  $$\n",
    "   \\begin{bmatrix} 0 & 0 & 1 \\\\ 0 & 1 & 0\\\\ 1 & 0 & 0 \\end{bmatrix}\n",
    "  $$\n",
    "  \n",
    " Now try to define the `row_swap` function which take a matrix $A$ and two indices $i$ and $j$ as its inputs and returns a matrix which is equal to $A$ with its $i$-th row and $j$-th row swapped."
   ]
  },
  {
   "cell_type": "code",
   "execution_count": null,
   "id": "379ed88c",
   "metadata": {
    "tags": []
   },
   "outputs": [],
   "source": [
    "def row_swap(A, i, j):\n",
    "    \"Swap row i and j in matrix A.\"\n",
    "    m = ...\n",
    "    E = np.eye(m)\n",
    "\n",
    "    # Fill out certain entries of E with proper numbers\n",
    "    # For example:\n",
    "    # E[i, i] = ?\n",
    "    ...\n",
    "    \n",
    "    return np.around(E @ A, precision)"
   ]
  },
  {
   "cell_type": "code",
   "execution_count": null,
   "id": "c2987f94",
   "metadata": {},
   "outputs": [],
   "source": [
    "A = np.array([[-1,2,3],[4,-5,6],[7,-8,9]])\n",
    "print(\"Before row exchange:\")\n",
    "print(A)\n",
    "print(\"After row exchange:\")\n",
    "print(row_swap(A, 1, 2))"
   ]
  },
  {
   "cell_type": "markdown",
   "id": "d4b69fc7",
   "metadata": {},
   "source": [
    "<!-- END QUESTION -->\n",
    "\n",
    "<!-- BEGIN QUESTION -->\n",
    "\n",
    "# Exercise 5\n",
    "## Row Sum\n",
    " For summing $k \\times$ row $i$ with row $j$ in a $m\\times n$ matrix $A$, we multiply $A$ by the matrix $E$ where $E$  is equal to the identity matrix $I_m$ except $E_{ji}=k$. For example, if $A$ is 3 by 5 and we want to add -2 times $3$ to row $1$. then $E$ would be equal to:\n",
    "  \n",
    "   $$\n",
    "   \\begin{bmatrix} 1 & 0 & -2 \\\\ 0 & 1 & 0\\\\ 0 & 0 & 1 \\end{bmatrix}\n",
    "  $$\n",
    "\n",
    "Now try to define the `row_sum` function which takes matrix $A$, scalar $k$ and indices $i, j$ as its inputs and returns the matrix resulting from adding $k$ times row $i$  to row $j$  in the matrix $A$."
   ]
  },
  {
   "cell_type": "code",
   "execution_count": null,
   "id": "1d88c666",
   "metadata": {
    "tags": []
   },
   "outputs": [],
   "source": [
    "# A simple exception for when the indices given to row_sum function are equal\n",
    "class GERowSwapSameIndexException(Exception):\n",
    "    def __init__(self):\n",
    "        super().__init__(\"Error: indices given to the function must be different.\")\n",
    "        \n",
    "def row_sum(A,k,i,j):\n",
    "    \"Add k times row i to row j in matrix A.\"\n",
    "    if (i == j):\n",
    "        raise GERowSwapSameIndexException\n",
    "        \n",
    "    m = ...\n",
    "    E = ...\n",
    "    # Fill out certain entries of E with proper numbers\n",
    "    # For example:\n",
    "    # E[i, i] = ?\n",
    "    #E[j, :] += k * E[i, :]\n",
    "    ...\n",
    "\n",
    "    return np.around(E @ A, precision)"
   ]
  },
  {
   "cell_type": "code",
   "execution_count": null,
   "id": "cc0b05b3",
   "metadata": {},
   "outputs": [],
   "source": [
    "A = np.array([[1,2,3],[4,-5,6],[7,-8,9]])\n",
    "print(\"Before row sum:\")\n",
    "print(A)\n",
    "print(\"After row sum:\")\n",
    "print(row_sum(A, 2, 1, 2))"
   ]
  },
  {
   "cell_type": "markdown",
   "id": "d30a6842",
   "metadata": {
    "tags": []
   },
   "source": [
    "<!-- END QUESTION -->\n",
    "\n",
    "<!-- BEGIN QUESTION -->\n",
    "\n",
    "# Exercise 6\n",
    "\n",
    "## Row Scale\n",
    "For summing $k \\times$ row $i$ with row $j$ in a $m\\times n$ matrix $A$, we multiply $A$ by the matrix $E$ where $E$  is equal to the identity matrix $I_m$ except $E_{ii}=k$. For example, if $A$ is 4 by 3 and we want to multiply row 3 by -4 then $E$ would be equal to:\n",
    "  \n",
    "   $$\n",
    "   \\begin{bmatrix} 1 & 0 & 0 & 0\\\\ 0 & 1 & 0 &0\\\\ 0 & 0 & -4 &0 \\\\\n",
    "       0&  0 &0 &1 \\end{bmatrix}\n",
    "  $$\n",
    "The implementation of a function that scales a row of a matrix must be trivial by now. It take a matrix $A$, a scalar $k$ and an index $i$ and returns the matrix that results from  $k$ times row $i$ in the matrix $A$."
   ]
  },
  {
   "cell_type": "code",
   "execution_count": null,
   "id": "aa677f9c",
   "metadata": {
    "tags": []
   },
   "outputs": [],
   "source": [
    "def row_scale(A,k,i):\n",
    "    \"Multiply row i by k in matrix A\"\n",
    "    m = ...\n",
    "    E = ...\n",
    "    # Fill out certain entries of E with proper numbers\n",
    "    # For example:\n",
    "    # E[i, i] = ?\n",
    "    ...\n",
    "\n",
    "    return np.around(E @ A, precision)"
   ]
  },
  {
   "cell_type": "code",
   "execution_count": null,
   "id": "905f8438",
   "metadata": {},
   "outputs": [],
   "source": [
    "A = np.array([[1,2,3],[4,-5,6],[7,-8,9]])\n",
    "print(\"Before row scale:\")\n",
    "print(A)\n",
    "print(\"After row scale:\")\n",
    "print(row_scale(A, -3, 1))"
   ]
  },
  {
   "cell_type": "markdown",
   "id": "60c1c53d",
   "metadata": {},
   "source": [
    "# Exercise 7\n",
    "\n",
    "## Gaussian Elimination\n",
    "Having defined the elementary row operations, now let's implement gaussian elimination.\n",
    "\n",
    "Define the function `eliminate` which takes a matrix $A$ and a vector $b$ and applies gaussian elimination on them and then returns the resulting matrix and vector."
   ]
  },
  {
   "cell_type": "code",
   "execution_count": null,
   "id": "0842cc62",
   "metadata": {},
   "outputs": [],
   "source": [
    "# A simple exception for when the indices given to row_sum function are equal\n",
    "class GEEliminationErr(Exception):\n",
    "    def __init__(self, msg):\n",
    "        super().__init__(msg)\n",
    "        \n",
    "def is_zero(x, epsilon=1e-10):    \n",
    "    return abs(x) < epsilon\n",
    "\n",
    "def gaussian_elimination(A):\n",
    "    number_rows = A.shape[0]\n",
    "    try:\n",
    "        for i in range(number_rows):\n",
    "            pivot = ...\n",
    "            \n",
    "            if is_zero(pivot):\n",
    "                swap_index = (np.where(A[i+1:,i] != 0)[0][0]) + i + 1\n",
    "                A = ...\n",
    "                \n",
    "            # Eliminate elements below the pivot\n",
    "            loopRange = ...\n",
    "            for j in range(loopRange):\n",
    "                multiplier = ... \n",
    "                A = ...\n",
    "                # print(\"Row operation: \")\n",
    "                # print(A)\n",
    "    \n",
    "        if A[number_rows-1, number_rows-1] == 0:\n",
    "            raise GEEliminationErr(\"Matrix is not full rank. There are no unique solution.\")\n",
    "    \n",
    "    except IndexError as exc:\n",
    "        raise GEEliminationErr(\"Pivot not found. There are no unique solutions.\") from exc\n",
    "    return A"
   ]
  },
  {
   "cell_type": "code",
   "execution_count": null,
   "id": "4557eca5",
   "metadata": {},
   "outputs": [],
   "source": [
    "# ADD A TEST\n",
    "test = np.array([[3, 2, 1], [5, 8, 3], [1, 1, 5]])\n",
    "gaussian_elimination(test)"
   ]
  },
  {
   "cell_type": "markdown",
   "id": "6ea5bd20",
   "metadata": {},
   "source": [
    "# Exercise 8\n",
    "\n",
    "Next, implement the `back_substitution` function. This function solves a linear system of equations that has been transformed into reduced row-echelon form. It takes a matrix $A$ and a vector $b$ in their rref forms and returns the solution of $Ax=b$."
   ]
  },
  {
   "cell_type": "code",
   "execution_count": null,
   "id": "4a7d4267",
   "metadata": {},
   "outputs": [],
   "source": [
    "def back_substitution(A,b):\n",
    "    n = A.shape[0]\n",
    "    x = np.zeros(n)\n",
    "    for i in range(n-1, -1, -1):\n",
    "        tmp = b[i]\n",
    "        for j in range(n-1, i, -1):\n",
    "            ... \n",
    "        ...\n",
    "    return np.around(np.matrix(x), precision)"
   ]
  },
  {
   "attachments": {},
   "cell_type": "markdown",
   "id": "aa12a593",
   "metadata": {},
   "source": [
    "# Exercise 9\n",
    "\n",
    "## Inverse Matrix\n",
    "\n",
    "Next, implement the `inverse_matrix` function. It takes a matrix $A$  and returns $A^{-1}$."
   ]
  },
  {
   "cell_type": "code",
   "execution_count": null,
   "id": "591ae3f8",
   "metadata": {},
   "outputs": [],
   "source": [
    "def inverse_matrix(A):\n",
    "    # define an identity matrix\n",
    "    b = ...\n",
    "\n",
    "    Aug = ...\n",
    "\n",
    "    # Applying the elimination\n",
    "    ref_Aug = gaussian_elimination(Aug)\n",
    "    ref_A = ref_Aug[:, :-A.shape[0]].copy()\n",
    "    z = np.zeros(b.shape)\n",
    "    for col in range(1, b.shape[0] + 1):\n",
    "        ref_b = ref_Aug[:, -col].copy()\n",
    "        z[-col] = back_substitution(ref_A, ref_b)\n",
    "\n",
    "    return z.T"
   ]
  },
  {
   "cell_type": "code",
   "execution_count": null,
   "id": "03dc6d47",
   "metadata": {},
   "outputs": [],
   "source": [
    "# define an example matrix \n",
    "A = np.matrix([[1,1,-1], [1,0,1], [2,1,1]], dtype = float)\n",
    "print(\"Original Matrix\")\n",
    "print(A)\n",
    "\n",
    "print(\"Inverse of Matrix:\")\n",
    "print(inverse_matrix(A))"
   ]
  },
  {
   "attachments": {},
   "cell_type": "markdown",
   "id": "63c0a792",
   "metadata": {},
   "source": [
    "# LU Decomposition\n",
    "\n",
    "We will make use of the `Doolittle's LUP` decomposition with partial pivoting to decompose our matrix $A$ into $PA=LU$, where $L$ is a lower triangular matrix, $U$ is an upper triangular matrix and $P$ is a permutation matrix. $P$ is needed to resolve certain singularity issues. The algorithm is provided as follows.\n",
    "\n",
    "To calculate the upper triangular section we use the following formula for elements of $U$:\n",
    "$$\n",
    "u_{ij} = a_{ij} - \\sum_{k=1}^{i-1} u_{kj} l_{ik}\n",
    "$$\n",
    "\n",
    "The formula for elements of the lower triangular matrix $L$ is similar, except that we need to divide each term by the corresponding diagonal element of $U$. To ensure that the algorithm is numerically stable when $u_{jj} << 0$, a pivoting matrix $P$ is used to re-order $A$ so that the largest element of each column of $A$ gets shifted to the diagonal of $A$. The formula for elements of $L$ follows:\n",
    "$$\n",
    "l_{ij} = \\frac{1}{u_{jj}} (a_{ij} - \\sum_{k=1}^{j-1} u_{kj} l_{ik})\n",
    "$$"
   ]
  },
  {
   "cell_type": "code",
   "execution_count": null,
   "id": "9b933dc2",
   "metadata": {},
   "outputs": [],
   "source": [
    "def P_matrix(A):\n",
    "    P = np.zeros(A.shape, dtype=float)\n",
    "\n",
    "    for row in range(A.shape[0]):\n",
    "        index = ...\n",
    "        P[row][index] = 1\n",
    "    \n",
    "    return P"
   ]
  },
  {
   "cell_type": "code",
   "execution_count": null,
   "id": "536f6667",
   "metadata": {},
   "outputs": [],
   "source": [
    "def lu_decomposition(A):\n",
    "    L = np.zeros(A.shape, dtype=float)\n",
    "    U = np.zeros(A.shape, dtype=float)\n",
    "\n",
    "    P = P_matrix(A)\n",
    "    PA = P @ A\n",
    "\n",
    "    ...\n",
    "\n",
    "    return (P, L, U)"
   ]
  },
  {
   "attachments": {},
   "cell_type": "markdown",
   "id": "16f39696",
   "metadata": {},
   "source": [
    "One application of LU decomposition in computing is in the computation of a determinant. The determinant is often computed by taking the product of the elements on the diagonal of both the L and U matrices. Since LU decomposition is quite efficient, this is a computationally efficient way of computing the determinant.\n",
    "\n",
    "$$A=LU \\Rightarrow det(A) = det(L).det(U)$$\n",
    "\n",
    "* For a triangular matrix, the determinant is just the product of its diagonal elements. So we just need 2n−1 multiplications to get the result."
   ]
  },
  {
   "cell_type": "code",
   "execution_count": null,
   "id": "c4285d0f",
   "metadata": {},
   "outputs": [],
   "source": [
    "A = np.array(\n",
    " [[ 1.6, -0.6, -2.,   1.,  -0. ],\n",
    " [-1.1, -1.5,  0.2,  1.,   2.7],\n",
    " [-0.1, -0.1, -0.,   0.9, -0. ],\n",
    " [ 1.1,  1.9,  0.2,  1.7, -0.5],\n",
    " [-0.4,  0.2,  0.9, -0.7,  0.3]]\n",
    ")\n",
    "\n",
    "P, L, U = lu_decomposition(A)\n",
    "print(\"P:\")\n",
    "print(P)\n",
    "print(\"A:\")\n",
    "print(A)\n",
    "print(\"L:\")\n",
    "print(L)\n",
    "print(\"U:\")\n",
    "print(U)\n",
    "\n",
    "det_L = ...\n",
    "det_U = ...\n",
    "print(\"det A:\")\n",
    "print(det_L * det_U)"
   ]
  },
  {
   "attachments": {
    "133324aa-9bbc-494c-a990-926956fd3483.png": {
     "image/png": "[encoded data removed]"
    },
    "3d32a1e3-9929-4a0f-a286-81bda0b4d334.png": {
     "image/png": "[encoded data removed]"
    }
   },
   "cell_type": "markdown",
   "id": "ee36282e",
   "metadata": {},
   "source": [
    "<!-- END QUESTION -->\n",
    "\n",
    "## Color Grading\n",
    "A digital image is a numerical representation of an image via a set of picture elements known as pixels. A digital image is an array, or a matrix, of square pixels (picture elements) arranged in\n",
    "columns and rows. \n",
    "### Grayscale Images\n",
    "In a (8-bit) greyscale image each picture element has an assigned intensity that\n",
    "ranges from 0 to 255. A grey scale image is what people normally call a black and\n",
    "white image, but the name emphasizes that such an image will also include many\n",
    "shades of grey.\n",
    "\n",
    "![image.png](attachment:3d32a1e3-9929-4a0f-a286-81bda0b4d334.png)\n",
    "\n",
    "### RGB Images\n",
    "The RGB colour model relates very closely to the way we perceive colour with the r,\n",
    "g and b receptors in our retinas. RGB uses additive colour mixing and is the basic\n",
    "colour model used in television or any other medium that projects colour with light.\n",
    "It is the basic colour model used in computers and for web graphics.\n",
    "The RGB color model is a method of describing colors. In this model each color is represented as a mixture of three basic colors: red, green, and blue. By varying intensities of these components a variety of colors can be obtained.\n",
    "\n",
    "![image.png](attachment:133324aa-9bbc-494c-a990-926956fd3483.png)\n"
   ]
  },
  {
   "cell_type": "code",
   "execution_count": null,
   "id": "735f634a",
   "metadata": {},
   "outputs": [],
   "source": [
    "# import image\n",
    "dog = plt.imread(\"images\\dog.jpg\")\n",
    "plt.figure(figsize=(10,10))\n",
    "plt.imshow(dog)\n",
    "plt.show()"
   ]
  },
  {
   "cell_type": "code",
   "execution_count": null,
   "id": "814c063b",
   "metadata": {},
   "outputs": [],
   "source": [
    "# Checkout the contents of the dog array\n",
    "dog.shape, dog"
   ]
  },
  {
   "cell_type": "markdown",
   "id": "d93ad038",
   "metadata": {},
   "source": [
    "The `color_grader` function works as follows. It takes as its arguments a 3x3 matrix $A$ and an array representing an image. For each image pixel it takes the vector \n",
    "\n",
    "$$\\mathbf{v} = \\begin{bmatrix} r \\\\ g \\\\ b \\\\ \\end{bmatrix}$$\n",
    "\n",
    "with RGB coordinates of the pixel, and replaces it with the vector $A\\mathbf{v}$, which specifies the new pixel color. Then it displays the image with colors given by the vectors $A\\mathbf{v}$. Since valid RGB values are integers between 0 and 255, coordinates of each vector  𝐴𝐯  are rounded to the nearest integer in this range. In particular, if  𝐴𝐯  has negative coordinates they are rounded up to 0, and if it has coordinates exceeding 255 they are rounded down to 255.\n",
    "\n",
    "Here is the implementation of the `color_grader` function:"
   ]
  },
  {
   "cell_type": "code",
   "execution_count": null,
   "id": "bb67588b",
   "metadata": {},
   "outputs": [],
   "source": [
    "def color_grader(A, img, width=8, height=8):\n",
    "    A = np.array(A).astype(float)\n",
    "    \n",
    "    if img.dtype == 'uint8':\n",
    "        img = img.astype(float)/255\n",
    "    new_img = np.transpose(np.dot(A, np.transpose(img, axes = (0, 2, 1))), axes = (1, 2, 0))\n",
    "    new_img[new_img < 0] = 0\n",
    "    new_img[new_img > 1] = 1\n",
    "    new_img = (255*new_img).astype('uint8')\n",
    "    plt.figure(figsize=(width,height))\n",
    "    plt.imshow(new_img)\n",
    "    plt.show()"
   ]
  },
  {
   "cell_type": "code",
   "execution_count": null,
   "id": "c848aded",
   "metadata": {},
   "outputs": [],
   "source": [
    "A = np.array([[1 , 0, 0.1], [1, 1.5, 0.1], [0.1, 0.3, 1]])\n",
    "print(A)\n",
    "color_grader(A, dog)"
   ]
  },
  {
   "cell_type": "markdown",
   "id": "45a311ac",
   "metadata": {},
   "source": [
    "In each of the cases below find a $3\\times 3$ matrix $A$ which transforms colors of image pixels as indicated. Use the function `color_grader` to display the resulting image of the balloon."
   ]
  },
  {
   "attachments": {},
   "cell_type": "markdown",
   "id": "d5fe75a5",
   "metadata": {},
   "source": [
    "<!-- BEGIN QUESTION -->\n",
    "\n",
    "## Exercise 10\n",
    "\n",
    "The matrix leaves the blue component unchanged and sets the other components to 0:\n",
    "\n",
    "$$B\\begin{bmatrix} r \\\\ g \\\\ b \\\\ \\end{bmatrix}  = \\begin{bmatrix} 0 \\\\ 0 \\\\ b \\\\ \\end{bmatrix} $$"
   ]
  },
  {
   "cell_type": "code",
   "execution_count": null,
   "id": "9c72e87a",
   "metadata": {
    "tags": []
   },
   "outputs": [],
   "source": [
    "R = ...  \n",
    "G = ... \n",
    "B = ... \n",
    "print(\"Matrix Red:\")\n",
    "print(R)\n",
    "print(\"Matrix Green:\")\n",
    "print(G)\n",
    "print(\"Matrix Blue:\")\n",
    "print(B)\n",
    "color_grader(R, dog)\n",
    "color_grader(G, dog)\n",
    "color_grader(B, dog)"
   ]
  },
  {
   "attachments": {},
   "cell_type": "markdown",
   "id": "618ad429",
   "metadata": {},
   "source": [
    "<!-- END QUESTION -->\n",
    "\n",
    "<!-- BEGIN QUESTION -->\n",
    "\n",
    "## Exercise 11\n",
    "\n",
    "The matrix interchanges the blue component with the green component:\n",
    "\n",
    "$$A\\begin{bmatrix} r \\\\ g \\\\ b \\\\ \\end{bmatrix}  = \\begin{bmatrix} r \\\\ b \\\\ g \\\\ \\end{bmatrix} $$"
   ]
  },
  {
   "cell_type": "code",
   "execution_count": null,
   "id": "9c0fcddc",
   "metadata": {
    "tags": []
   },
   "outputs": [],
   "source": [
    "A = ...\n",
    "color_grader(A, dog)"
   ]
  },
  {
   "attachments": {},
   "cell_type": "markdown",
   "id": "affe2188",
   "metadata": {},
   "source": [
    "<!-- BEGIN QUESTION -->\n",
    "\n",
    "## Exercise 12\n",
    "\n",
    "The matrix deletes blue in the image and keeps the values of red and green:\n",
    "\n",
    "$$A\\begin{bmatrix} r \\\\ g \\\\ b \\\\ \\end{bmatrix}  = \\begin{bmatrix} r \\\\ g \\\\ 0 \\\\ \\end{bmatrix} $$"
   ]
  },
  {
   "cell_type": "code",
   "execution_count": null,
   "id": "aef4cb59",
   "metadata": {},
   "outputs": [],
   "source": [
    "A = ...\n",
    "color_grader(A, dog)"
   ]
  },
  {
   "cell_type": "markdown",
   "id": "e1a2df47",
   "metadata": {},
   "source": [
    "<!-- END QUESTION -->\n",
    "\n",
    "There are a number of algorithms to convert colored images to grayscale images. In colored images each color pixel is described by a triple (R, G, B) of intensities for red, green, and blue, Here are two ways we map that to a single number giving a grayscale value.\n",
    "\n",
    "- The average method simply averages the values: (R + G + B) / 3.\n",
    "- The luminosity method is a more sophisticated version of the average method. It also averages the values, but it forms a weighted average to account for human perception. We’re more sensitive to green than other colors, so green is weighted most heavily. The formula for luminosity is 0.21 R + 0.72 G + 0.07 B."
   ]
  },
  {
   "attachments": {},
   "cell_type": "markdown",
   "id": "a2dfb915",
   "metadata": {},
   "source": [
    "<!-- BEGIN QUESTION -->\n",
    "\n",
    "## Exercise 13\n",
    "\n",
    "\n",
    "The matrix replaces all components by their average:\n",
    "\n",
    "$$A\\begin{bmatrix} r \\\\ g \\\\ b \\\\ \\end{bmatrix}  = \\begin{bmatrix} \\dfrac{r+g+b}{3} \\\\[1mm] \\dfrac{r+g+b}{3} \\\\[1mm] \\dfrac{r+g+b}{3} \\\\ \\end{bmatrix} $$"
   ]
  },
  {
   "cell_type": "code",
   "execution_count": null,
   "id": "c087694d",
   "metadata": {
    "tags": []
   },
   "outputs": [],
   "source": [
    "A = ...\n",
    "color_grader(A, dog)"
   ]
  },
  {
   "attachments": {},
   "cell_type": "markdown",
   "id": "fe65282a",
   "metadata": {},
   "source": [
    "<!-- END QUESTION -->\n",
    "\n",
    "<!-- BEGIN QUESTION -->\n",
    "\n",
    "## Exercise 14\n",
    "\n",
    "\n",
    "The matrix replaces all components by their weighted average:\n",
    "\n",
    "$$A\\begin{bmatrix} r \\\\ g \\\\ b \\\\ \\end{bmatrix}  = \\begin{bmatrix} 0.21 . r + 0.72 . g + 0.07 . b \\\\[1mm]0.21 . r + 0.72 . g + 0.07 . b \\\\[1mm] 0.21 . r + 0.72 . g + 0.07 . b \\\\ \\end{bmatrix} $$"
   ]
  },
  {
   "cell_type": "code",
   "execution_count": null,
   "id": "a5808e86",
   "metadata": {
    "tags": []
   },
   "outputs": [],
   "source": [
    "A = ...\n",
    "color_grader(A, dog)"
   ]
  },
  {
   "attachments": {},
   "cell_type": "markdown",
   "id": "d111987b",
   "metadata": {},
   "source": [
    "<!-- END QUESTION -->\n",
    "\n",
    "<!-- BEGIN QUESTION -->\n",
    "\n",
    "## Exercise 15\n",
    "\n",
    "\n",
    "The matrix produce a sepia conversion of the image:\n",
    "\n",
    "$$A\\begin{bmatrix} r \\\\ g \\\\ b \\\\ \\end{bmatrix}  = \\begin{bmatrix} 0.393 . r + 0.769 . g + 0.189 . b \\\\[1mm]0.349 . r + 0.686 . g + 0.168 . b \\\\[1mm] 0.272 . r + 0.534 . g + 0.131 . b \\\\ \\end{bmatrix} $$"
   ]
  },
  {
   "cell_type": "code",
   "execution_count": null,
   "id": "82c1e60b",
   "metadata": {},
   "outputs": [],
   "source": [
    "A = ...\n",
    "color_grader(A, dog)"
   ]
  },
  {
   "attachments": {},
   "cell_type": "markdown",
   "id": "365c18fa",
   "metadata": {},
   "source": [
    "## Linear Transformation\n",
    "\n",
    "A linear transformation of the plane $\\mathbb{R}^2$ is a geometric transformation of the form\n",
    "\n",
    "$$f\\begin{pmatrix} x \\\\ y \\\\ \\end{pmatrix} = \\begin{bmatrix} a & b \\\\ c & d \\end{bmatrix} \\begin{bmatrix} x \\\\ y \\\\ \\end{bmatrix}$$"
   ]
  },
  {
   "attachments": {},
   "cell_type": "markdown",
   "id": "de15b4af",
   "metadata": {},
   "source": [
    "Applying a geometric transformation to a given matrix in Numpy requires applying the inverse of the transformation to the coordinates of the matrix, create a new matrix of indices from the coordinates and map the matrix to the new indices.\n",
    "\n",
    "Let's start with a simple example involving a matrix that represents the indices itself."
   ]
  },
  {
   "cell_type": "code",
   "execution_count": null,
   "id": "9c0228ce",
   "metadata": {},
   "outputs": [],
   "source": [
    "M, N = 3, 4\n",
    "matrix = np.arange(M*N).reshape((M, N))\n",
    "matrix"
   ]
  },
  {
   "attachments": {},
   "cell_type": "markdown",
   "id": "7d74c10a",
   "metadata": {},
   "source": [
    "Then, we need to obtain the indices pairs of the matrix in a matrix form. The new indices of the matrix will result from the product of the inverse of the transformation matrix and this matrix, therefore the indices pairs in this case need to be a 2x12 matrix as\n",
    "\n",
    "$$\n",
    "P=\\begin{bmatrix} 0 & 0 & 0 & 1 & 1 & 1 & 2 & 2 & 2 & 3 & 3 & 3 \\\\\n",
    "0 & 1 & 2 & 0 & 1 & 2 & 0 & 1 & 2 & 0 & 1 & 2 \\\\ \\end{bmatrix}\n",
    "$$"
   ]
  },
  {
   "cell_type": "code",
   "execution_count": null,
   "id": "c1f6b29c",
   "metadata": {},
   "outputs": [],
   "source": [
    "points = np.mgrid[0:N, 0:M].reshape((2, M*N))\n",
    "points"
   ]
  },
  {
   "attachments": {},
   "cell_type": "markdown",
   "id": "c1788338",
   "metadata": {},
   "source": [
    "An alternative way to get the indices pairs are:"
   ]
  },
  {
   "cell_type": "code",
   "execution_count": null,
   "id": "e11cc972",
   "metadata": {},
   "outputs": [],
   "source": [
    "x, y = np.mgrid[0:N, 0:M]\n",
    "points = np.vstack([x.ravel(), y.ravel()])\n",
    "points"
   ]
  },
  {
   "attachments": {},
   "cell_type": "markdown",
   "id": "6143401c",
   "metadata": {},
   "source": [
    "Now, apply the transformation to the indices pairs. The new indices pairs need to be integers to map the given matrix to the indices.\n",
    "\n",
    "As an example, the transformation matrix will be\n",
    "\n",
    "$$\n",
    "A=\\begin{bmatrix} 2 & 0 \\\\ 0 & 1 \\end{bmatrix}\n",
    "$$\n",
    "\n",
    "which corresponds with scaling the plane in the $x$-axis by a factor of 2. Hence, the new indices pairs are\n",
    "\n",
    "$$\n",
    "P'=\\lfloor A^{-1}P \\rfloor=\\begin{bmatrix} 0 & 0 & 0 & 0 & 0 & 0 & 1 & 1 & 1 & 1 & 1 & 1 \\\\\n",
    "0 & 1 & 2 & 0 & 1 & 2 & 0 & 1 & 2 & 0 & 1 & 2 \\\\ \\end{bmatrix}\n",
    "$$"
   ]
  },
  {
   "cell_type": "code",
   "execution_count": null,
   "id": "036dd5e0",
   "metadata": {},
   "outputs": [],
   "source": [
    "A = np.array(\n",
    "    [[2, 0],\n",
    "     [0, 1]]\n",
    ")\n",
    "new_points = np.linalg.inv(A).dot(points).astype(int)\n",
    "new_points"
   ]
  },
  {
   "attachments": {},
   "cell_type": "markdown",
   "id": "6804d040",
   "metadata": {},
   "source": [
    "To finish this example, convert the indices pairs to a matrix of indices which in this example corresponds with the resulting matrix.\n",
    "\n",
    "The $x$ and $y$ components are\n",
    "$$\n",
    "x=\\begin{bmatrix} 0 & 0 & 1 & 1 \\\\ 0 & 0 & 1 & 1 \\\\ 0 & 0 & 1 & 1 \\end{bmatrix}, \\quad\n",
    "y=\\begin{bmatrix} 0 & 0 & 0 & 0 \\\\ 1 & 1 & 1 & 1 \\\\ 2 & 2 & 2 & 2 \\end{bmatrix}\n",
    "$$\n",
    "and the resulting matrix from the $x$ and $y$ components is\n",
    "$$\n",
    "x+Ny=\\begin{bmatrix} 0 & 0 & 1 & 1 \\\\ 4 & 4 & 5 & 5 \\\\ 8 & 8 & 9 & 9 \\end{bmatrix}\n",
    "$$"
   ]
  },
  {
   "cell_type": "code",
   "execution_count": null,
   "id": "767f31fb",
   "metadata": {},
   "outputs": [],
   "source": [
    "x, y = new_points.reshape((2, M, N), order='F')\n",
    "x + N * y"
   ]
  },
  {
   "attachments": {},
   "cell_type": "markdown",
   "id": "11385e57",
   "metadata": {},
   "source": [
    "### Visual Matrix Transformation\n",
    "\n",
    "In the following example we will use a bigger matrix, represented as an image for visual support. Once we calculate the new indices matrix we will map the original matrix to the new indices, wrapping the out-of-bounds indices to obtain a continuous plane."
   ]
  },
  {
   "cell_type": "code",
   "execution_count": null,
   "id": "4b1f5528",
   "metadata": {},
   "outputs": [],
   "source": [
    "aux = np.ones((100, 100), dtype=int)\n",
    "src = np.vstack([np.c_[1*aux, 2*aux], np.c_[3*aux, 4*aux]])\n",
    "plt.imshow(src)\n",
    "plt.show()"
   ]
  },
  {
   "attachments": {},
   "cell_type": "markdown",
   "id": "37117b11",
   "metadata": {},
   "source": [
    "The linear transformation function might be written as follows:"
   ]
  },
  {
   "cell_type": "code",
   "execution_count": null,
   "id": "bf53b2d6",
   "metadata": {},
   "outputs": [],
   "source": [
    "def linear_transformation(src, A):\n",
    "    M, N = src.shape\n",
    "    points = np.mgrid[0:N, 0:M].reshape((2, M*N))\n",
    "    new_points = np.linalg.inv(A).dot(points).round().astype(int)\n",
    "    x, y = new_points.reshape((2, M, N), order='F')\n",
    "    indices = x + N*y\n",
    "    return np.take(src, indices, mode='wrap')"
   ]
  },
  {
   "attachments": {},
   "cell_type": "markdown",
   "id": "f8f25954",
   "metadata": {},
   "source": [
    "## Exercise 16\n",
    "\n",
    "Scaling the plane in the $x$-axis by a factor of 1.5:\n",
    "$$\n",
    "f\\begin{pmatrix} x \\\\ y \\\\ \\end{pmatrix} = \\begin{bmatrix} 1.5 & 0 \\\\ 0 & 1 \\end{bmatrix} \\begin{bmatrix} x \\\\ y \\\\ \\end{bmatrix}\n",
    "$$"
   ]
  },
  {
   "cell_type": "code",
   "execution_count": null,
   "id": "bef9e000",
   "metadata": {},
   "outputs": [],
   "source": [
    "A = ...\n",
    "dst = linear_transformation(src, A)\n",
    "plt.imshow(dst)\n",
    "plt.show()"
   ]
  },
  {
   "attachments": {},
   "cell_type": "markdown",
   "id": "271ec1bb",
   "metadata": {},
   "source": [
    "## Exercise 17\n",
    "\n",
    "Dilating the plane by a factor of 1.8:\n",
    "$$f\\begin{pmatrix} x \\\\ y \\\\ \\end{pmatrix} = \\begin{bmatrix} 1.8 & 0 \\\\ 0 & 1.8 \\end{bmatrix} \\begin{bmatrix} x \\\\ y \\\\ \\end{bmatrix}$$"
   ]
  },
  {
   "cell_type": "code",
   "execution_count": null,
   "id": "3629dc4a",
   "metadata": {},
   "outputs": [],
   "source": [
    "A = ...\n",
    "dst = linear_transformation(src, A)\n",
    "plt.imshow(dst)\n",
    "plt.show()"
   ]
  },
  {
   "attachments": {},
   "cell_type": "markdown",
   "id": "4317c79f",
   "metadata": {},
   "source": [
    "## Exercise 18\n",
    "\n",
    "Dilating the plane by a factor of 0.5:\n",
    "$$f\\begin{pmatrix} x \\\\ y \\\\ \\end{pmatrix} = \\begin{bmatrix} 0.5 & 0 \\\\ 0 & 0.5 \\end{bmatrix} \\begin{bmatrix} x \\\\ y \\\\ \\end{bmatrix}$$"
   ]
  },
  {
   "cell_type": "code",
   "execution_count": null,
   "id": "38673349",
   "metadata": {},
   "outputs": [],
   "source": [
    "A = ...\n",
    "dst = linear_transformation(src, A)\n",
    "plt.imshow(dst)\n",
    "plt.show()"
   ]
  },
  {
   "attachments": {},
   "cell_type": "markdown",
   "id": "0743d589",
   "metadata": {},
   "source": [
    "## Exercise 19\n",
    "\n",
    "Scaling the plane in the $y$-axis by a factor of 0.5:\n",
    "$$f\\begin{pmatrix} x \\\\ y \\\\ \\end{pmatrix} = \\begin{bmatrix} 1 & 0 \\\\ 0 & 0.5 \\end{bmatrix} \\begin{bmatrix} x \\\\ y \\\\ \\end{bmatrix}$$"
   ]
  },
  {
   "cell_type": "code",
   "execution_count": null,
   "id": "a36e7e7c",
   "metadata": {},
   "outputs": [],
   "source": [
    "A = ...\n",
    "dst = linear_transformation(src, A)\n",
    "plt.imshow(dst)\n",
    "plt.show()"
   ]
  },
  {
   "attachments": {},
   "cell_type": "markdown",
   "id": "b340fbed",
   "metadata": {},
   "source": [
    "## Exercise 20\n",
    "\n",
    "Shearing about the $y$-axis with a vertical displacement of $\\frac{x}{2}$:\n",
    "$$f\\begin{pmatrix} x \\\\ y \\\\ \\end{pmatrix} = \\begin{bmatrix} 1 & 0 \\\\ \\frac{1}{2} & 0 \\end{bmatrix} \\begin{bmatrix} x \\\\ y \\\\ \\end{bmatrix}$$"
   ]
  },
  {
   "cell_type": "code",
   "execution_count": null,
   "id": "422fdf35",
   "metadata": {},
   "outputs": [],
   "source": [
    "A = ...\n",
    "dst = linear_transformation(src, A)\n",
    "plt.imshow(dst)\n",
    "plt.show()"
   ]
  },
  {
   "attachments": {},
   "cell_type": "markdown",
   "id": "4d395930",
   "metadata": {},
   "source": [
    "## Exercise 21\n",
    "\n",
    "Rotation through $45^∘$ about the origin:\n",
    "$$f\\begin{pmatrix} x \\\\ y \\\\ \\end{pmatrix} = \\begin{bmatrix} cos\\frac{\\pi}{4} & -sin\\frac{\\pi}{4} \\\\ sin\\frac{\\pi}{4} & cos\\frac{\\pi}{4} \\end{bmatrix} \\begin{bmatrix} x \\\\ y \\\\ \\end{bmatrix}$$"
   ]
  },
  {
   "cell_type": "code",
   "execution_count": null,
   "id": "01b2ec70",
   "metadata": {},
   "outputs": [],
   "source": [
    "A = ...\n",
    "dst = linear_transformation(src, A)\n",
    "plt.imshow(dst)\n",
    "plt.show()"
   ]
  },
  {
   "attachments": {},
   "cell_type": "markdown",
   "id": "144c2df3",
   "metadata": {},
   "source": [
    "## Exercise 22\n",
    "\n",
    "Reflection in a line with inclination of $45^∘$ through the origin:\n",
    "$$f\\begin{pmatrix} x \\\\ y \\\\ \\end{pmatrix} = \\begin{bmatrix} cos\\frac{\\pi}{2} & sin\\frac{\\pi}{2} \\\\ sin\\frac{\\pi}{2} & -cos\\frac{\\pi}{2} \\end{bmatrix} \\begin{bmatrix} x \\\\ y \\\\ \\end{bmatrix}$$"
   ]
  },
  {
   "cell_type": "code",
   "execution_count": null,
   "id": "12d89259",
   "metadata": {},
   "outputs": [],
   "source": [
    "A = ...\n",
    "dst = linear_transformation(src, A)\n",
    "plt.imshow(dst)\n",
    "plt.show()"
   ]
  },
  {
   "attachments": {},
   "cell_type": "markdown",
   "id": "2c7bb398",
   "metadata": {},
   "source": [
    "## Matrix Operation\n",
    "\n",
    "Videos are made up of frames, which are essentially images. Matrices can represent the color channels of each pixel in a frame. By applying different operations on these matrices we can manipulate videos."
   ]
  },
  {
   "cell_type": "code",
   "execution_count": 67,
   "id": "4de9bd5d",
   "metadata": {},
   "outputs": [],
   "source": [
    "# Initialize a video capture object for the video file 'walking.mp4'\n",
    "cap = cv2.VideoCapture('videos/walking.mp4')\n",
    "\n",
    "# Loop through each frame in the video\n",
    "while True:\n",
    "    # Read the next frame from the video\n",
    "    ret, current_frame = cap.read()\n",
    "    # Check if the frame was successfully read\n",
    "    if not ret:\n",
    "        break # Exit the loop if the video has ended\n",
    "\n",
    "    cv2.imshow('frame', current_frame)\n",
    "\n",
    "    # If the pressed key is 'q', break the loop\n",
    "    if cv2.waitKey(30) & 0xFF == ord('q'):\n",
    "        break\n",
    "\n",
    "# Release the video capture object\n",
    "cap.release()\n",
    "\n",
    "# Close all open windows created by cv2.imshow()\n",
    "cv2.destroyAllWindows()"
   ]
  },
  {
   "attachments": {},
   "cell_type": "markdown",
   "id": "552c7b35",
   "metadata": {},
   "source": [
    "## Motion tracking\n",
    "\n",
    "Motion tracking involves following the movement of a specific object or region of interest in a video. By using matrix operations on video frames we can achieve some simple steps in motion tracking.\n",
    "\n",
    "This method identifies moving objects by analyzing the difference between consecutive frames."
   ]
  },
  {
   "attachments": {},
   "cell_type": "markdown",
   "id": "2f8594f1",
   "metadata": {},
   "source": [
    "## Exercise 23\n",
    "\n",
    "Calculate frame difference of each frame from the first frame."
   ]
  },
  {
   "cell_type": "code",
   "execution_count": 30,
   "id": "568158ac",
   "metadata": {},
   "outputs": [],
   "source": [
    "cap = cv2.VideoCapture('videos/walking.mp4')\n",
    "\n",
    "while True:\n",
    "    ret, current_frame = cap.read()\n",
    "    if not ret:\n",
    "        break\n",
    "\n",
    "    difference_frame = ...\n",
    "\n",
    "    cv2.imshow('Frame Difference', difference_frame)\n",
    "\n",
    "    if cv2.waitKey(30) & 0xFF == ord('q'):\n",
    "        break\n",
    "\n",
    "cap.release()\n",
    "cv2.destroyAllWindows()"
   ]
  },
  {
   "attachments": {},
   "cell_type": "markdown",
   "id": "7700d70e",
   "metadata": {},
   "source": [
    "## Exercise 24\n",
    "\n",
    "Calculate the absolute difference of each frame from the first frame.\n",
    "\n",
    "(Absolute difference is generally preferred for its effectiveness in highlighting any change.)"
   ]
  },
  {
   "cell_type": "code",
   "execution_count": 31,
   "id": "d67dcb1f",
   "metadata": {},
   "outputs": [],
   "source": [
    "cap = cv2.VideoCapture('videos/walking.mp4')\n",
    "\n",
    "while True:\n",
    "    ret, current_frame = cap.read()\n",
    "    if not ret:\n",
    "        break\n",
    "\n",
    "    difference_frame = ...\n",
    "\n",
    "    cv2.imshow('Frame Difference', difference_frame)\n",
    "\n",
    "    if cv2.waitKey(30) & 0xFF == ord('q'):\n",
    "        break\n",
    "\n",
    "cap.release()\n",
    "cv2.destroyAllWindows()"
   ]
  },
  {
   "attachments": {},
   "cell_type": "markdown",
   "id": "7b45af46",
   "metadata": {},
   "source": [
    "## Exercise 25\n",
    "\n",
    "Calculate the difference of each frame from its previous frame"
   ]
  },
  {
   "cell_type": "code",
   "execution_count": 48,
   "id": "d34bd849",
   "metadata": {},
   "outputs": [],
   "source": [
    "cap = cv2.VideoCapture('videos/walking.mp4')\n",
    "\n",
    "while True:\n",
    "    ret, current_frame = cap.read()\n",
    "    if not ret:\n",
    "        break\n",
    "\n",
    "    difference_frame = ...\n",
    "\n",
    "    cv2.imshow('Frame Difference', difference_frame)\n",
    "\n",
    "    if cv2.waitKey(30) & 0xFF == ord('q'):\n",
    "        break\n",
    "\n",
    "cap.release()\n",
    "cv2.destroyAllWindows()"
   ]
  },
  {
   "attachments": {},
   "cell_type": "markdown",
   "id": "4430b2c7",
   "metadata": {},
   "source": [
    "## Exercise 26\n",
    "\n",
    "Change only the direction of movement horizontally. "
   ]
  },
  {
   "cell_type": "code",
   "execution_count": 72,
   "id": "f6721a69",
   "metadata": {},
   "outputs": [],
   "source": [
    "cap = cv2.VideoCapture('videos/walking.mp4')\n",
    "\n",
    "while True:\n",
    "    ret, current_frame = cap.read()\n",
    "    if not ret:\n",
    "        break\n",
    "\n",
    "    difference_frame = ...\n",
    "    new_background_frame = ...\n",
    "\n",
    "    cv2.imshow('Frame Difference', new_background_frame)\n",
    "\n",
    "    if cv2.waitKey(30) & 0xFF == ord('q'):\n",
    "        break\n",
    "\n",
    "cap.release()\n",
    "cv2.destroyAllWindows()"
   ]
  },
  {
   "attachments": {},
   "cell_type": "markdown",
   "id": "7c0d483a",
   "metadata": {},
   "source": [
    "## Exercise 27\n",
    "\n",
    "Darken the background of the video by 0.25."
   ]
  },
  {
   "cell_type": "code",
   "execution_count": 68,
   "id": "281943d2",
   "metadata": {},
   "outputs": [],
   "source": [
    "cap = cv2.VideoCapture('videos/walking.mp4')\n",
    "\n",
    "while True:\n",
    "    ret, current_frame = cap.read()\n",
    "    if not ret:\n",
    "        break\n",
    "\n",
    "    difference_frame = ...\n",
    "    new_background_frame = ...\n",
    "\n",
    "    cv2.imshow('Frame Difference', new_background_frame)\n",
    "\n",
    "    if cv2.waitKey(30) & 0xFF == ord('q'):\n",
    "        break\n",
    "\n",
    "cap.release()\n",
    "cv2.destroyAllWindows()"
   ]
  },
  {
   "attachments": {},
   "cell_type": "markdown",
   "id": "2b341588",
   "metadata": {},
   "source": [
    "## Exercise 28\n",
    "\n",
    "Change the bacground of the video by adding frames of exercise 24 to a new image."
   ]
  },
  {
   "cell_type": "code",
   "execution_count": 49,
   "id": "9e4b3216",
   "metadata": {},
   "outputs": [],
   "source": [
    "cap = cv2.VideoCapture('videos/walking.mp4')\n",
    "\n",
    "while True:\n",
    "    ret, current_frame = cap.read()\n",
    "    if not ret:\n",
    "        break\n",
    "\n",
    "    difference_frame = ...\n",
    "    new_background_frame = ...\n",
    "\n",
    "    cv2.imshow('Frame Difference', new_background_frame)\n",
    "\n",
    "    if cv2.waitKey(30) & 0xFF == ord('q'):\n",
    "        break\n",
    "\n",
    "cap.release()\n",
    "cv2.destroyAllWindows()"
   ]
  }
 ],
 "metadata": {
  "kernelspec": {
   "display_name": "Python 3 (ipykernel)",
   "language": "python",
   "name": "python3"
  },
  "language_info": {
   "codemirror_mode": {
    "name": "ipython",
    "version": 3
   },
   "file_extension": ".py",
   "mimetype": "text/x-python",
   "name": "python",
   "nbconvert_exporter": "python",
   "pygments_lexer": "ipython3",
   "version": "3.11.2"
  },
  "otter": {
   "tests": {
    "q10": {
     "name": "q10",
     "points": null,
     "suites": [
      {
       "cases": [],
       "scored": true,
       "setup": "",
       "teardown": "",
       "type": "doctest"
      }
     ]
    }
   }
  },
  "vscode": {
   "interpreter": {
    "hash": "8ee5d389ec2c26eba0a14383f9e3d525b9eaba506f282f5c040088555bd39633"
   }
  }
 },
 "nbformat": 4,
 "nbformat_minor": 5
}
